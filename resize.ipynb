{
 "cells": [
  {
   "cell_type": "code",
   "execution_count": 16,
   "id": "0730a1ff",
   "metadata": {},
   "outputs": [],
   "source": [
    "import pandas as pd\n",
    "import numpy as np"
   ]
  },
  {
   "cell_type": "code",
   "execution_count": 17,
   "id": "5c857a3c",
   "metadata": {},
   "outputs": [],
   "source": [
    "data = pd.read_csv('data/data.csv')"
   ]
  },
  {
   "cell_type": "code",
   "execution_count": 18,
   "id": "83f2ebcb",
   "metadata": {},
   "outputs": [
    {
     "data": {
      "text/plain": [
       "source\n",
       "Human                       347692\n",
       "GPT-3.5                      52346\n",
       "Text-Davinci-003             22860\n",
       "Text-Davinci-002             21436\n",
       "OPT-1.3B                     18467\n",
       "                             ...  \n",
       "Toppy-M-7B                     433\n",
       "LLaMA-2-7B                     409\n",
       "Dolphin-Mixtral-8x7B           407\n",
       "Cohere-Command                 390\n",
       "Dolphin-2.5-Mixtral-8x7B       228\n",
       "Name: count, Length: 63, dtype: int64"
      ]
     },
     "execution_count": 18,
     "metadata": {},
     "output_type": "execute_result"
    }
   ],
   "source": [
    "# distribution of sources\n",
    "source_counts_before = data['source'].value_counts()\n",
    "source_counts_before"
   ]
  },
  {
   "cell_type": "code",
   "execution_count": 19,
   "id": "55e339a4",
   "metadata": {},
   "outputs": [],
   "source": [
    "# randomly select % of data from each source\n",
    "def select_data_subset(df, fraction=0.01): # currently set to 1 %\n",
    "    return df.groupby('source').apply(lambda x: x.sample(frac=fraction)).reset_index(drop=True)"
   ]
  },
  {
   "cell_type": "code",
   "execution_count": null,
   "id": "71e610f3",
   "metadata": {},
   "outputs": [],
   "source": [
    "filtered_data = select_data_subset(data)"
   ]
  },
  {
   "cell_type": "code",
   "execution_count": 21,
   "id": "38435bd5",
   "metadata": {},
   "outputs": [
    {
     "data": {
      "text/plain": [
       "source\n",
       "Human                       3477\n",
       "GPT-3.5                      523\n",
       "Text-Davinci-003             229\n",
       "Text-Davinci-002             214\n",
       "OPT-1.3B                     185\n",
       "                            ... \n",
       "LLaMA-2-7B                     4\n",
       "Cohere-Command                 4\n",
       "Toppy-M-7B                     4\n",
       "Dolphin-Mixtral-8x7B           4\n",
       "Dolphin-2.5-Mixtral-8x7B       2\n",
       "Name: count, Length: 63, dtype: int64"
      ]
     },
     "execution_count": 21,
     "metadata": {},
     "output_type": "execute_result"
    }
   ],
   "source": [
    "# distribution of sources\n",
    "source_counts_after = filtered_data['source'].value_counts()\n",
    "source_counts_after"
   ]
  },
  {
   "cell_type": "code",
   "execution_count": 22,
   "id": "ee2006f5",
   "metadata": {},
   "outputs": [],
   "source": [
    "filtered_data.to_csv('data/data_filtered.csv', index=False)"
   ]
  }
 ],
 "metadata": {
  "kernelspec": {
   "display_name": "Python 3",
   "language": "python",
   "name": "python3"
  },
  "language_info": {
   "codemirror_mode": {
    "name": "ipython",
    "version": 3
   },
   "file_extension": ".py",
   "mimetype": "text/x-python",
   "name": "python",
   "nbconvert_exporter": "python",
   "pygments_lexer": "ipython3",
   "version": "3.12.3"
  }
 },
 "nbformat": 4,
 "nbformat_minor": 5
}
